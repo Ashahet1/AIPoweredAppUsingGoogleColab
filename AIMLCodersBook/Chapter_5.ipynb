{
  "nbformat": 4,
  "nbformat_minor": 0,
  "metadata": {
    "colab": {
      "provenance": [],
      "authorship_tag": "ABX9TyPMsU9XIdo1wKoFO4ju8ooQ",
      "include_colab_link": true
    },
    "kernelspec": {
      "name": "python3",
      "display_name": "Python 3"
    },
    "language_info": {
      "name": "python"
    },
    "widgets": {
      "application/vnd.jupyter.widget-state+json": {
        "152a04f38935494bab5a4289d95f0d26": {
          "model_module": "@jupyter-widgets/controls",
          "model_name": "HBoxModel",
          "model_module_version": "1.5.0",
          "state": {
            "_dom_classes": [],
            "_model_module": "@jupyter-widgets/controls",
            "_model_module_version": "1.5.0",
            "_model_name": "HBoxModel",
            "_view_count": null,
            "_view_module": "@jupyter-widgets/controls",
            "_view_module_version": "1.5.0",
            "_view_name": "HBoxView",
            "box_style": "",
            "children": [
              "IPY_MODEL_936c41a70e304fda9eefaa4ffa3fb175",
              "IPY_MODEL_ec90a0fe40bc470f8ea66c0135bb0d02",
              "IPY_MODEL_c24cc375d8654d24943b3c9f8933b132"
            ],
            "layout": "IPY_MODEL_84eaf6d013b947d2ab59231edfaf0704"
          }
  }
