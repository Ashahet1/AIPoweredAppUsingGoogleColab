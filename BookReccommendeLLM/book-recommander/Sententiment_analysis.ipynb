{
 "cells": [
  {
   "cell_type": "code",
   "id": "initial_id",
   "metadata": {
    "collapsed": true,
    "ExecuteTime": {
     "end_time": "2025-02-03T03:50:30.415482Z",
     "start_time": "2025-02-03T03:50:30.272522Z"
    }
   },
   "source": [
    "import pandas as pd\n",
    "\n",
    "books = pd.read_csv('books_with_categories.csv')"
   ],
   "outputs": [],
   "execution_count": 19
  },
  {
   "metadata": {
    "ExecuteTime": {
     "end_time": "2025-02-03T03:50:35.430774Z",
     "start_time": "2025-02-03T03:50:32.885911Z"
    }
   },
   "cell_type": "code",
   "source": [
    "from transformers import pipeline\n",
    "classifier = pipeline(\"text-classification\",\n",
    "                      model=\"j-hartmann/emotion-english-distilroberta-base\",\n",
    "                      top_k=None,\n",
    "                      device=-1)\n",
    "classifier(\"I love this!\")"
   ],
   "id": "9dc7fb8678f94e72",
   "outputs": [
    {
     "name": "stderr",
     "output_type": "stream",
     "text": [
      "All model checkpoint layers were used when initializing TFRobertaForSequenceClassification.\n",
      "\n",
      "All the layers of TFRobertaForSequenceClassification were initialized from the model checkpoint at j-hartmann/emotion-english-distilroberta-base.\n",
      "If your task is similar to the task the model of the checkpoint was trained on, you can already use TFRobertaForSequenceClassification for predictions without further training.\n",
      "Device set to use -1\n"
     ]
    },
    {
     "data": {
      "text/plain": [
       "[[{'label': 'joy', 'score': 0.9771687984466553},\n",
       "  {'label': 'surprise', 'score': 0.008528675884008408},\n",
       "  {'label': 'neutral', 'score': 0.005764583591371775},\n",
       "  {'label': 'anger', 'score': 0.004419777542352676},\n",
       "  {'label': 'sadness', 'score': 0.002092391485348344},\n",
       "  {'label': 'disgust', 'score': 0.0016119909705594182},\n",
       "  {'label': 'fear', 'score': 0.0004138514050282538}]]"
      ]
     },
     "execution_count": 20,
     "metadata": {},
     "output_type": "execute_result"
    }
   ],
   "execution_count": 20
  },
  {
   "metadata": {
    "ExecuteTime": {
     "end_time": "2025-02-03T03:50:38.244271Z",
     "start_time": "2025-02-03T03:50:38.238316Z"
    }
   },
   "cell_type": "code",
   "source": "books[\"description\"][0]",
   "id": "69ab6d64c7de40a9",
   "outputs": [
    {
     "data": {
      "text/plain": [
       "'A NOVEL THAT READERS and critics have been eagerly anticipating for over a decade, Gilead is an astonishingly imagined story of remarkable lives. John Ames is a preacher, the son of a preacher and the grandson (both maternal and paternal) of preachers. It’s 1956 in Gilead, Iowa, towards the end of the Reverend Ames’s life, and he is absorbed in recording his family’s story, a legacy for the young son he will never see grow up. Haunted by his grandfather’s presence, John tells of the rift between his grandfather and his father: the elder, an angry visionary who fought for the abolitionist cause, and his son, an ardent pacifist. He is troubled, too, by his prodigal namesake, Jack (John Ames) Boughton, his best friend’s lost son who returns to Gilead searching for forgiveness and redemption. Told in John Ames’s joyous, rambling voice that finds beauty, humour and truth in the smallest of life’s details, Gilead is a song of celebration and acceptance of the best and the worst the world has to offer. At its heart is a tale of the sacred bonds between fathers and sons, pitch-perfect in style and story, set to dazzle critics and readers alike.'"
      ]
     },
     "execution_count": 21,
     "metadata": {},
     "output_type": "execute_result"
    }
   ],
   "execution_count": 21
  },
  {
   "metadata": {
    "ExecuteTime": {
     "end_time": "2025-02-03T03:50:39.868550Z",
     "start_time": "2025-02-03T03:50:39.530310Z"
    }
   },
   "cell_type": "code",
   "source": "classifier(books[\"description\"][0])",
   "id": "a06fd940888b90a3",
   "outputs": [
    {
     "data": {
      "text/plain": [
       "[[{'label': 'fear', 'score': 0.6548398733139038},\n",
       "  {'label': 'neutral', 'score': 0.16985243558883667},\n",
       "  {'label': 'sadness', 'score': 0.11640975624322891},\n",
       "  {'label': 'surprise', 'score': 0.020700646564364433},\n",
       "  {'label': 'disgust', 'score': 0.019100762903690338},\n",
       "  {'label': 'joy', 'score': 0.015161402523517609},\n",
       "  {'label': 'anger', 'score': 0.003935153130441904}]]"
      ]
     },
     "execution_count": 22,
     "metadata": {},
     "output_type": "execute_result"
    }
   ],
   "execution_count": 22
  },
  {
   "metadata": {
    "ExecuteTime": {
     "end_time": "2025-02-03T03:52:23.290558Z",
     "start_time": "2025-02-03T03:52:22.863509Z"
    }
   },
   "cell_type": "code",
   "source": [
    "result = classifier(books[\"description\"][0])\n",
    "print(\"Classifier Output:\", result)\n",
    "print(\"Type of Output:\", type(result))\n"
   ],
   "id": "bc4768b56c1b2ac",
   "outputs": [
    {
     "name": "stdout",
     "output_type": "stream",
     "text": [
      "Classifier Output: [[{'label': 'fear', 'score': 0.6548398733139038}, {'label': 'neutral', 'score': 0.16985243558883667}, {'label': 'sadness', 'score': 0.11640975624322891}, {'label': 'surprise', 'score': 0.020700646564364433}, {'label': 'disgust', 'score': 0.019100762903690338}, {'label': 'joy', 'score': 0.015161402523517609}, {'label': 'anger', 'score': 0.003935153130441904}]]\n",
      "Type of Output: <class 'list'>\n"
     ]
    }
   ],
   "execution_count": 25
  },
  {
   "metadata": {
    "ExecuteTime": {
     "end_time": "2025-02-03T03:52:35.798597Z",
     "start_time": "2025-02-03T03:52:34.617326Z"
    }
   },
   "cell_type": "code",
   "source": [
    "sentences = books[\"description\"][0].split(\".\")\n",
    "predictions = classifier(sentences)"
   ],
   "id": "34062efc5c84b75a",
   "outputs": [],
   "execution_count": 26
  },
  {
   "metadata": {
    "ExecuteTime": {
     "end_time": "2025-02-03T03:52:37.121609Z",
     "start_time": "2025-02-03T03:52:37.114161Z"
    }
   },
   "cell_type": "code",
   "source": "sentences[0]",
   "id": "1d38a960df821450",
   "outputs": [
    {
     "data": {
      "text/plain": [
       "'A NOVEL THAT READERS and critics have been eagerly anticipating for over a decade, Gilead is an astonishingly imagined story of remarkable lives'"
      ]
     },
     "execution_count": 27,
     "metadata": {},
     "output_type": "execute_result"
    }
   ],
   "execution_count": 27
  },
  {
   "metadata": {
    "ExecuteTime": {
     "end_time": "2025-02-03T03:52:38.588571Z",
     "start_time": "2025-02-03T03:52:38.583753Z"
    }
   },
   "cell_type": "code",
   "source": "predictions[0]",
   "id": "c1b2c45d10640ad0",
   "outputs": [
    {
     "data": {
      "text/plain": [
       "[{'label': 'surprise', 'score': 0.7296026945114136},\n",
       " {'label': 'neutral', 'score': 0.1403856873512268},\n",
       " {'label': 'fear', 'score': 0.06816217303276062},\n",
       " {'label': 'joy', 'score': 0.04794244468212128},\n",
       " {'label': 'anger', 'score': 0.009156357496976852},\n",
       " {'label': 'disgust', 'score': 0.002628476358950138},\n",
       " {'label': 'sadness', 'score': 0.002122159581631422}]"
      ]
     },
     "execution_count": 28,
     "metadata": {},
     "output_type": "execute_result"
    }
   ],
   "execution_count": 28
  },
  {
   "metadata": {
    "ExecuteTime": {
     "end_time": "2025-02-03T03:52:51.240637Z",
     "start_time": "2025-02-03T03:52:51.234855Z"
    }
   },
   "cell_type": "code",
   "source": "sentences[3]",
   "id": "ec53ce9bd3bcf60d",
   "outputs": [
    {
     "data": {
      "text/plain": [
       "' Haunted by his grandfather’s presence, John tells of the rift between his grandfather and his father: the elder, an angry visionary who fought for the abolitionist cause, and his son, an ardent pacifist'"
      ]
     },
     "execution_count": 29,
     "metadata": {},
     "output_type": "execute_result"
    }
   ],
   "execution_count": 29
  },
  {
   "metadata": {
    "ExecuteTime": {
     "end_time": "2025-02-03T03:52:53.247656Z",
     "start_time": "2025-02-03T03:52:53.241498Z"
    }
   },
   "cell_type": "code",
   "source": "predictions[3]",
   "id": "b79622cea7c1f434",
   "outputs": [
    {
     "data": {
      "text/plain": [
       "[{'label': 'fear', 'score': 0.9281682372093201},\n",
       " {'label': 'anger', 'score': 0.032190900295972824},\n",
       " {'label': 'neutral', 'score': 0.012808683328330517},\n",
       " {'label': 'sadness', 'score': 0.008756878785789013},\n",
       " {'label': 'surprise', 'score': 0.008597916923463345},\n",
       " {'label': 'disgust', 'score': 0.008431830443441868},\n",
       " {'label': 'joy', 'score': 0.0010455817682668567}]"
      ]
     },
     "execution_count": 30,
     "metadata": {},
     "output_type": "execute_result"
    }
   ],
   "execution_count": 30
  },
  {
   "metadata": {
    "ExecuteTime": {
     "end_time": "2025-02-03T03:52:56.127875Z",
     "start_time": "2025-02-03T03:52:56.120799Z"
    }
   },
   "cell_type": "code",
   "source": "predictions",
   "id": "ab25b49d26b051c2",
   "outputs": [
    {
     "data": {
      "text/plain": [
       "[[{'label': 'surprise', 'score': 0.7296026945114136},\n",
       "  {'label': 'neutral', 'score': 0.1403856873512268},\n",
       "  {'label': 'fear', 'score': 0.06816217303276062},\n",
       "  {'label': 'joy', 'score': 0.04794244468212128},\n",
       "  {'label': 'anger', 'score': 0.009156357496976852},\n",
       "  {'label': 'disgust', 'score': 0.002628476358950138},\n",
       "  {'label': 'sadness', 'score': 0.002122159581631422}],\n",
       " [{'label': 'neutral', 'score': 0.44937101006507874},\n",
       "  {'label': 'disgust', 'score': 0.2735914885997772},\n",
       "  {'label': 'joy', 'score': 0.10908288508653641},\n",
       "  {'label': 'sadness', 'score': 0.09362716227769852},\n",
       "  {'label': 'anger', 'score': 0.04047829285264015},\n",
       "  {'label': 'surprise', 'score': 0.02697012946009636},\n",
       "  {'label': 'fear', 'score': 0.0068790484219789505}],\n",
       " [{'label': 'neutral', 'score': 0.646216094493866},\n",
       "  {'label': 'sadness', 'score': 0.24273334443569183},\n",
       "  {'label': 'disgust', 'score': 0.0434226430952549},\n",
       "  {'label': 'surprise', 'score': 0.0283005703240633},\n",
       "  {'label': 'joy', 'score': 0.014211460016667843},\n",
       "  {'label': 'fear', 'score': 0.014084079302847385},\n",
       "  {'label': 'anger', 'score': 0.011031887494027615}],\n",
       " [{'label': 'fear', 'score': 0.9281682372093201},\n",
       "  {'label': 'anger', 'score': 0.032190900295972824},\n",
       "  {'label': 'neutral', 'score': 0.012808683328330517},\n",
       "  {'label': 'sadness', 'score': 0.008756878785789013},\n",
       "  {'label': 'surprise', 'score': 0.008597916923463345},\n",
       "  {'label': 'disgust', 'score': 0.008431830443441868},\n",
       "  {'label': 'joy', 'score': 0.0010455817682668567}],\n",
       " [{'label': 'sadness', 'score': 0.9671575427055359},\n",
       "  {'label': 'neutral', 'score': 0.015104135498404503},\n",
       "  {'label': 'disgust', 'score': 0.006480589509010315},\n",
       "  {'label': 'fear', 'score': 0.005393982864916325},\n",
       "  {'label': 'surprise', 'score': 0.0022869398817420006},\n",
       "  {'label': 'anger', 'score': 0.0018428877228870988},\n",
       "  {'label': 'joy', 'score': 0.0017338772304356098}],\n",
       " [{'label': 'joy', 'score': 0.9327977299690247},\n",
       "  {'label': 'disgust', 'score': 0.037717342376708984},\n",
       "  {'label': 'neutral', 'score': 0.01589190401136875},\n",
       "  {'label': 'sadness', 'score': 0.006444518454372883},\n",
       "  {'label': 'anger', 'score': 0.0050249905325472355},\n",
       "  {'label': 'surprise', 'score': 0.0015812081983312964},\n",
       "  {'label': 'fear', 'score': 0.0005423077964223921}],\n",
       " [{'label': 'joy', 'score': 0.6528707146644592},\n",
       "  {'label': 'neutral', 'score': 0.2542746067047119},\n",
       "  {'label': 'surprise', 'score': 0.06808310002088547},\n",
       "  {'label': 'sadness', 'score': 0.009909003041684628},\n",
       "  {'label': 'disgust', 'score': 0.006512209307402372},\n",
       "  {'label': 'anger', 'score': 0.004821315407752991},\n",
       "  {'label': 'fear', 'score': 0.0035290170926600695}],\n",
       " [{'label': 'neutral', 'score': 0.5494771003723145},\n",
       "  {'label': 'sadness', 'score': 0.11169013381004333},\n",
       "  {'label': 'disgust', 'score': 0.10400660336017609},\n",
       "  {'label': 'surprise', 'score': 0.07876547425985336},\n",
       "  {'label': 'anger', 'score': 0.06413356214761734},\n",
       "  {'label': 'fear', 'score': 0.051362767815589905},\n",
       "  {'label': 'joy', 'score': 0.04056438058614731}]]"
      ]
     },
     "execution_count": 31,
     "metadata": {},
     "output_type": "execute_result"
    }
   ],
   "execution_count": 31
  },
  {
   "metadata": {
    "ExecuteTime": {
     "end_time": "2025-02-03T03:52:58.593471Z",
     "start_time": "2025-02-03T03:52:58.588737Z"
    }
   },
   "cell_type": "code",
   "source": "sorted(predictions[0], key=lambda x: [\"label\"])",
   "id": "993cc80cc35f20dc",
   "outputs": [
    {
     "data": {
      "text/plain": [
       "[{'label': 'surprise', 'score': 0.7296026945114136},\n",
       " {'label': 'neutral', 'score': 0.1403856873512268},\n",
       " {'label': 'fear', 'score': 0.06816217303276062},\n",
       " {'label': 'joy', 'score': 0.04794244468212128},\n",
       " {'label': 'anger', 'score': 0.009156357496976852},\n",
       " {'label': 'disgust', 'score': 0.002628476358950138},\n",
       " {'label': 'sadness', 'score': 0.002122159581631422}]"
      ]
     },
     "execution_count": 32,
     "metadata": {},
     "output_type": "execute_result"
    }
   ],
   "execution_count": 32
  },
  {
   "metadata": {
    "ExecuteTime": {
     "end_time": "2025-02-03T03:53:05.324889Z",
     "start_time": "2025-02-03T03:53:05.317943Z"
    }
   },
   "cell_type": "code",
   "source": [
    "import numpy as np\n",
    "\n",
    "emotion_list = [\"anger\", \"disgust\", \"fear\", \"joy\", \"sadness\", \"surprise\", \"neutral\"]\n",
    "isbn = []\n",
    "\n",
    "emotions_score = {label: [] for label in emotion_list}\n",
    "\n",
    "def calculate_emotions(predictions):\n",
    "    per_emotion_scores = {label: [] for label in emotion_list}\n",
    "    for prediction in predictions:\n",
    "        sorted_prediction = sorted(prediction, key=lambda x: [x[\"label\"]])\n",
    "        for index, label in enumerate(emotion_list):\n",
    "            per_emotion_scores[label].append(sorted_prediction[index][\"score\"])\n",
    "        return  {label: np.max(scores) for label, scores in per_emotion_scores.items()}"
   ],
   "id": "a91f8da56b18747f",
   "outputs": [],
   "execution_count": 33
  },
  {
   "metadata": {
    "ExecuteTime": {
     "end_time": "2025-02-03T03:53:26.981186Z",
     "start_time": "2025-02-03T03:53:26.918778Z"
    }
   },
   "cell_type": "code",
   "source": [
    "for i in range(10):\n",
    "    isbns.append(books[\"isbn\"][i])\n",
    "    sentences = books[\"description\"][i].split(\".\")\n",
    "    predictions = classifier(sentences)\n",
    "    max_scores = calculate_emotions(predictions)\n",
    "    for label in emotion_list:\n",
    "        emotions_score[label].append(max_scores[label])"
   ],
   "id": "b7bb52b7f04345b8",
   "outputs": [
    {
     "ename": "NameError",
     "evalue": "name 'isbns' is not defined",
     "output_type": "error",
     "traceback": [
      "\u001B[0;31m---------------------------------------------------------------------------\u001B[0m",
      "\u001B[0;31mNameError\u001B[0m                                 Traceback (most recent call last)",
      "Cell \u001B[0;32mIn[35], line 2\u001B[0m\n\u001B[1;32m      1\u001B[0m \u001B[38;5;28;01mfor\u001B[39;00m i \u001B[38;5;129;01min\u001B[39;00m \u001B[38;5;28mrange\u001B[39m(\u001B[38;5;241m10\u001B[39m):\n\u001B[0;32m----> 2\u001B[0m     \u001B[43misbns\u001B[49m\u001B[38;5;241m.\u001B[39mappend(books[\u001B[38;5;124m\"\u001B[39m\u001B[38;5;124misbn\u001B[39m\u001B[38;5;124m\"\u001B[39m][i])\n\u001B[1;32m      3\u001B[0m     sentences \u001B[38;5;241m=\u001B[39m books[\u001B[38;5;124m\"\u001B[39m\u001B[38;5;124mdescription\u001B[39m\u001B[38;5;124m\"\u001B[39m][i]\u001B[38;5;241m.\u001B[39msplit(\u001B[38;5;124m\"\u001B[39m\u001B[38;5;124m.\u001B[39m\u001B[38;5;124m\"\u001B[39m)\n\u001B[1;32m      4\u001B[0m     predictions \u001B[38;5;241m=\u001B[39m classifier(sentences)\n",
      "\u001B[0;31mNameError\u001B[0m: name 'isbns' is not defined"
     ]
    }
   ],
   "execution_count": 35
  },
  {
   "metadata": {
    "ExecuteTime": {
     "end_time": "2025-02-03T03:53:29.126974Z",
     "start_time": "2025-02-03T03:53:29.121721Z"
    }
   },
   "cell_type": "code",
   "source": "emotions_score",
   "id": "a04ab91230a9c5ed",
   "outputs": [
    {
     "data": {
      "text/plain": [
       "{'anger': [],\n",
       " 'disgust': [],\n",
       " 'fear': [],\n",
       " 'joy': [],\n",
       " 'sadness': [],\n",
       " 'surprise': [],\n",
       " 'neutral': []}"
      ]
     },
     "execution_count": 36,
     "metadata": {},
     "output_type": "execute_result"
    }
   ],
   "execution_count": 36
  },
  {
   "metadata": {
    "ExecuteTime": {
     "end_time": "2025-02-03T03:53:30.626865Z",
     "start_time": "2025-02-03T03:53:30.620525Z"
    }
   },
   "cell_type": "code",
   "source": [
    "emotions_df = pd.DataFrame(emotions_score)\n",
    "emotions_df[\"isbn13\"]=isbn\n"
   ],
   "id": "b84ebaf176bc556e",
   "outputs": [],
   "execution_count": 37
  },
  {
   "metadata": {
    "ExecuteTime": {
     "end_time": "2025-02-03T03:53:32.344739Z",
     "start_time": "2025-02-03T03:53:32.331722Z"
    }
   },
   "cell_type": "code",
   "source": "books = pd.merge(books, emotions_df, on=\"isbn13\", how=\"left\")",
   "id": "a1abb2d21a930a3b",
   "outputs": [],
   "execution_count": 38
  },
  {
   "metadata": {
    "ExecuteTime": {
     "end_time": "2025-02-03T03:53:34.106104Z",
     "start_time": "2025-02-03T03:53:33.998892Z"
    }
   },
   "cell_type": "code",
   "source": "books.to_csv(\"books_with_emotions.csv\", index=False)",
   "id": "34a7d4660ba333e0",
   "outputs": [],
   "execution_count": 39
  },
  {
   "metadata": {},
   "cell_type": "code",
   "outputs": [],
   "execution_count": null,
   "source": "",
   "id": "8a463c2e35dc8102"
  }
 ],
 "metadata": {
  "kernelspec": {
   "display_name": "Python 3",
   "language": "python",
   "name": "python3"
  },
  "language_info": {
   "codemirror_mode": {
    "name": "ipython",
    "version": 2
   },
   "file_extension": ".py",
   "mimetype": "text/x-python",
   "name": "python",
   "nbconvert_exporter": "python",
   "pygments_lexer": "ipython2",
   "version": "2.7.6"
  }
 },
 "nbformat": 4,
 "nbformat_minor": 5
}
